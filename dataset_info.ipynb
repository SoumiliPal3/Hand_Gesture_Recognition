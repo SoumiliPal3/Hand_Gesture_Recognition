{
 "cells": [
  {
   "cell_type": "code",
   "execution_count": 7,
   "id": "70dd7ff3-dd8a-4e8b-b9e4-727aa6454cb7",
   "metadata": {},
   "outputs": [
    {
     "data": {
      "text/plain": [
       "['Bye', 'dataset', 'Hello', 'No', 'Perfect', 'Thank You', 'Yes']"
      ]
     },
     "execution_count": 7,
     "metadata": {},
     "output_type": "execute_result"
    }
   ],
   "source": [
    "import zipfile\n",
    "import os\n",
    "\n",
    "# Define the path to the uploaded zip file and extraction folder\n",
    "zip_file_path = \"dataset2.zip\"\n",
    "extract_folder = \"dataset2/dataset/dataset\"\n",
    "\n",
    "# Extract the zip file\n",
    "with zipfile.ZipFile(zip_file_path, 'r') as zip_ref:\n",
    "    zip_ref.extractall(extract_folder)\n",
    "\n",
    "# List extracted files and directories\n",
    "extracted_files = os.listdir(extract_folder)\n",
    "extracted_files\n"
   ]
  },
  {
   "cell_type": "code",
   "execution_count": null,
   "id": "b76f537c-f49c-4716-9388-15e871d151e3",
   "metadata": {},
   "outputs": [],
   "source": []
  }
 ],
 "metadata": {
  "kernelspec": {
   "display_name": "Python 3 (ipykernel)",
   "language": "python",
   "name": "python3"
  },
  "language_info": {
   "codemirror_mode": {
    "name": "ipython",
    "version": 3
   },
   "file_extension": ".py",
   "mimetype": "text/x-python",
   "name": "python",
   "nbconvert_exporter": "python",
   "pygments_lexer": "ipython3",
   "version": "3.11.7"
  }
 },
 "nbformat": 4,
 "nbformat_minor": 5
}
